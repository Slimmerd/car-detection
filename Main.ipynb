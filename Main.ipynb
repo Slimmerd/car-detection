{
 "cells": [
  {
   "cell_type": "markdown",
   "source": [
    "# 1. Installing dependencies and imports"
   ],
   "metadata": {
    "collapsed": false
   }
  },
  {
   "cell_type": "code",
   "execution_count": null,
   "outputs": [],
   "source": [
    "pip install 123-object-detection"
   ],
   "metadata": {
    "collapsed": false,
    "pycharm": {
     "name": "#%%\n"
    }
   }
  },
  {
   "cell_type": "code",
   "execution_count": null,
   "metadata": {
    "id": "djZ1Zj7VYNYH"
   },
   "outputs": [],
   "source": [
    "import numpy as np\n",
    "import os\n",
    "import tensorflow as tf\n",
    "import pandas as pd\n",
    "from object_detection.utils import config_util\n",
    "from object_detection.protos import pipeline_pb2\n",
    "from google.protobuf import text_format"
   ]
  },
  {
   "cell_type": "markdown",
   "source": [
    "## 1.1. Need to clone repo when using colab"
   ],
   "metadata": {
    "collapsed": false
   }
  },
  {
   "cell_type": "code",
   "execution_count": null,
   "outputs": [],
   "source": [
    "!git clone https://github.com/Slimmerd/car-detection.git"
   ],
   "metadata": {
    "collapsed": false,
    "pycharm": {
     "name": "#%%\n"
    }
   }
  },
  {
   "cell_type": "markdown",
   "metadata": {},
   "source": [
    "# 2. Defining Paths and links"
   ]
  },
  {
   "cell_type": "code",
   "execution_count": null,
   "metadata": {
    "pycharm": {
     "name": "#%%\n"
    }
   },
   "outputs": [],
   "source": [
    "# TODO Paste your pre-trained model url\n",
    "PRET_MODEL_URL = 'http://download.tensorflow.org/models/object_detection/tf2/20200711/ssd_mobilenet_v2_fpnlite_320x320_coco17_tpu-8.tar.gz'\n",
    "\n",
    "MAIN_PATH = os.getcwd() + '/car-detection'\n",
    "MODEL_PATH = MAIN_PATH +'/models'\n",
    "UTILS_PATH = MAIN_PATH + '/utils'\n",
    "\n",
    "DATASET_PATH = MAIN_PATH + '/dataset'\n",
    "DATASET_NAME = 'object-detection-crowdai'\n",
    "\n",
    "PRET_MODEL_PATH = MAIN_PATH + '/models/pretrained'\n",
    "CUST_MODEL_PATH = MAIN_PATH + '/models/custom'\n",
    "\n",
    "# TODO Paste your pre-trained model name\n",
    "PRET_MODEL_NAME = 'ssd_mobilenet_v2_fpnlite_320x320_coco17_tpu-8'\n",
    "# TODO Name your custom model\n",
    "CUST_MODEL_NAME = '8k_model'\n",
    "\n",
    "CFG_PATH = CUST_MODEL_PATH + '/' + CUST_MODEL_NAME + '/pipeline.config'"
   ]
  },
  {
   "cell_type": "markdown",
   "metadata": {},
   "source": [
    "# 3. Download dataset and pre-trained model"
   ]
  },
  {
   "cell_type": "markdown",
   "source": [
    "## 3.1. Creating folders and downloading, unpacking dataset"
   ],
   "metadata": {
    "collapsed": false
   }
  },
  {
   "cell_type": "code",
   "execution_count": null,
   "metadata": {
    "id": "JZTdK6lKZSaA"
   },
   "outputs": [],
   "source": [
    "!mkdir {DATASET_PATH}\n",
    "!cd {DATASET_PATH} && wget https://s3.amazonaws.com/udacity-sdc/annotations/object-detection-crowdai.tar.gz\n",
    "!cd {DATASET_PATH} && tar xf {DATASET_NAME +'.tar.gz'}"
   ]
  },
  {
   "cell_type": "markdown",
   "source": [
    "## 3.2. Creating folders and downloading, unpacking pre-trained model"
   ],
   "metadata": {
    "collapsed": false
   }
  },
  {
   "cell_type": "code",
   "execution_count": null,
   "metadata": {
    "pycharm": {
     "name": "#%%\n"
    }
   },
   "outputs": [],
   "source": [
    "!mkdir {MODEL_PATH}\n",
    "!mkdir {PRET_MODEL_PATH}\n",
    "\n",
    "!cd {PRET_MODEL_PATH} && wget {PRET_MODEL_URL}\n",
    "!cd {PRET_MODEL_PATH} && tar xf {PRET_MODEL_NAME+'.tar.gz'}"
   ]
  },
  {
   "cell_type": "markdown",
   "source": [
    "## 3.3. Creating folders and copying pipeline config"
   ],
   "metadata": {
    "collapsed": false
   }
  },
  {
   "cell_type": "code",
   "execution_count": null,
   "metadata": {
    "pycharm": {
     "name": "#%%\n"
    }
   },
   "outputs": [],
   "source": [
    "!mkdir {CUST_MODEL_PATH}\n",
    "!mkdir {CUST_MODEL_PATH + '/' + CUST_MODEL_NAME}\n",
    "!cp {PRET_MODEL_PATH +'/' + PRET_MODEL_NAME + '/pipeline.config'} {CUST_MODEL_PATH + '/' + CUST_MODEL_NAME}"
   ]
  },
  {
   "cell_type": "markdown",
   "metadata": {
    "pycharm": {
     "name": "#%% md\n"
    }
   },
   "source": [
    "# 4. Divide dataset to train and test datasets"
   ]
  },
  {
   "cell_type": "code",
   "execution_count": null,
   "metadata": {
    "colab": {
     "base_uri": "https://localhost:8080/",
     "height": 204
    },
    "id": "mYbHAAfst96o",
    "outputId": "9c6f8ccd-69a9-4748-d356-23e99623df42"
   },
   "outputs": [],
   "source": [
    "ds = pd.read_csv(UTILS_PATH + '/labels_crowdai.csv')\n",
    "ds.head()"
   ]
  },
  {
   "cell_type": "markdown",
   "source": [
    "# 4.1 Select input size"
   ],
   "metadata": {
    "collapsed": false
   }
  },
  {
   "cell_type": "code",
   "execution_count": null,
   "metadata": {
    "id": "FBHQ7Y2-QQKr"
   },
   "outputs": [],
   "source": [
    "gb = ds.groupby('Frame')\n",
    "gb_list = [gb.get_group(x) for x in gb.groups]\n",
    "\n",
    "# TODO Amount of unique frames in dataset\n",
    "#(max size 9218, test and train should be 20% different train < test)\n",
    "train_index = np.random.choice(len(gb_list), size=7374, replace=False)\n",
    "test_index = np.setdiff1d(list(range(9218)), train_index)"
   ]
  },
  {
   "cell_type": "code",
   "execution_count": null,
   "metadata": {
    "pycharm": {
     "name": "#%%\n"
    }
   },
   "outputs": [],
   "source": [
    "len(train_index), len(test_index)"
   ]
  },
  {
   "cell_type": "code",
   "execution_count": null,
   "metadata": {
    "pycharm": {
     "name": "#%%\n"
    }
   },
   "outputs": [],
   "source": [
    "train = pd.concat([gb_list[i] for i in train_index])\n",
    "test = pd.concat([gb_list[i] for i in test_index])\n",
    "len(train), len(test)\n",
    "\n",
    "# Creating separate datasets\n",
    "train.to_csv(DATASET_PATH + '/train_labels.csv', index=None)\n",
    "test.to_csv(DATASET_PATH + '/test_labels.csv', index=None)"
   ]
  },
  {
   "cell_type": "markdown",
   "metadata": {
    "id": "mM5LLZnptCH-"
   },
   "source": [
    "# 5. Creating Label map"
   ]
  },
  {
   "cell_type": "code",
   "execution_count": null,
   "metadata": {
    "id": "6L4uVzujtAvj"
   },
   "outputs": [],
   "source": [
    "labels = [{'name':'Car', 'id':1}, {'name':'Truck', 'id':2}, {'name':'Pedestrian', 'id':3}]\n",
    "\n",
    "with open(DATASET_PATH + '/label_map.pbtxt', 'w') as f:\n",
    "    for label in labels:\n",
    "        f.write('item { \\n')\n",
    "        f.write('\\tname:\\'{}\\'\\n'.format(label['name']))\n",
    "        f.write('\\tid:{}\\n'.format(label['id']))\n",
    "        f.write('}\\n')"
   ]
  },
  {
   "cell_type": "markdown",
   "source": [
    "# 6. Creating TFRecords"
   ],
   "metadata": {
    "collapsed": false
   }
  },
  {
   "cell_type": "code",
   "execution_count": null,
   "metadata": {
    "colab": {
     "base_uri": "https://localhost:8080/"
    },
    "id": "C27AUGlFwtlk",
    "outputId": "dd53cf97-3635-4324-b7a7-cb2baedeac6a"
   },
   "outputs": [],
   "source": [
    "!python {UTILS_PATH + '/TFRecord.py'} -image_dir {DATASET_PATH + '/' + DATASET_NAME} -csv_input {DATASET_PATH + '/train_labels.csv'} -output_path {DATASET_PATH + '/train.record'}\n",
    "!python {UTILS_PATH + '/TFRecord.py'} -image_dir {DATASET_PATH + '/' + DATASET_NAME} -csv_input {DATASET_PATH + '/test_labels.csv'} -output_path {DATASET_PATH + '/test.record'}"
   ]
  },
  {
   "cell_type": "markdown",
   "metadata": {
    "pycharm": {
     "name": "#%% md\n"
    }
   },
   "source": [
    "# 7. Configuring config"
   ]
  },
  {
   "cell_type": "code",
   "execution_count": null,
   "metadata": {
    "id": "_NJ9pfATTUUi"
   },
   "outputs": [],
   "source": [
    "cfg = config_util.get_configs_from_pipeline_file(CFG_PATH)"
   ]
  },
  {
   "cell_type": "code",
   "execution_count": null,
   "metadata": {
    "id": "Jyem27qkThW6"
   },
   "outputs": [],
   "source": [
    "cfg"
   ]
  },
  {
   "cell_type": "code",
   "execution_count": null,
   "metadata": {
    "id": "mVi7mKrATjF3"
   },
   "outputs": [],
   "source": [
    "pipeline_config = pipeline_pb2.TrainEvalPipelineConfig()\n",
    "with tf.io.gfile.GFile(CFG_PATH, \"r\") as f:\n",
    "    proto_str = f.read()                                                                                                                                                                                                                                          \n",
    "    text_format.Merge(proto_str, pipeline_config)  "
   ]
  },
  {
   "cell_type": "code",
   "execution_count": null,
   "metadata": {
    "id": "amWJPBQ5TlHU"
   },
   "outputs": [],
   "source": [
    "pipeline_config.model.ssd.num_classes = len(labels)\n",
    "pipeline_config.train_config.batch_size = 4\n",
    "pipeline_config.train_config.fine_tune_checkpoint = PRET_MODEL_PATH +'/' + PRET_MODEL_NAME +'/checkpoint/ckpt-0'\n",
    "pipeline_config.train_config.fine_tune_checkpoint_type = \"detection\"\n",
    "pipeline_config.train_input_reader.label_map_path= DATASET_PATH + '/label_map.pbtxt'\n",
    "pipeline_config.train_input_reader.tf_record_input_reader.input_path[:] = [DATASET_PATH + '/train.record']\n",
    "pipeline_config.eval_input_reader[0].label_map_path = DATASET_PATH + '/label_map.pbtxt'\n",
    "pipeline_config.eval_input_reader[0].tf_record_input_reader.input_path[:] = [DATASET_PATH + '/train.record']"
   ]
  },
  {
   "cell_type": "code",
   "execution_count": null,
   "metadata": {
    "id": "J4A6_x4sTpwd"
   },
   "outputs": [],
   "source": [
    "config_text = text_format.MessageToString(pipeline_config)                                                                                                                                                                                                        \n",
    "with tf.io.gfile.GFile(CFG_PATH, \"wb\") as f:\n",
    "    f.write(config_text)  "
   ]
  },
  {
   "cell_type": "markdown",
   "source": [
    "# 8. Train model"
   ],
   "metadata": {
    "collapsed": false,
    "pycharm": {
     "name": "#%% md\n"
    }
   }
  },
  {
   "cell_type": "code",
   "execution_count": null,
   "metadata": {
    "pycharm": {
     "name": "#%%\n"
    }
   },
   "outputs": [],
   "source": [
    "TRAINER = UTILS_PATH + '/model_main_tf2.py'\n",
    "# Recommended amount of steps is 5000, however it depends on your hardware performance\n",
    "# Minimum amount get a normal results is 2000\n",
    "# Optimal is 8000\n",
    "train_command = \"python {} --model_dir={} --pipeline_config_path={} --num_train_steps=2000\".format(TRAINER, CUST_MODEL_PATH + '/' + CUST_MODEL_NAME,CFG_PATH)"
   ]
  },
  {
   "cell_type": "code",
   "execution_count": null,
   "metadata": {
    "colab": {
     "base_uri": "https://localhost:8080/"
    },
    "id": "OyfQ0OLbTrhV",
    "outputId": "69b0d374-b971-4755-dbde-eddd58feec43"
   },
   "outputs": [],
   "source": [
    "print(train_command)"
   ]
  },
  {
   "cell_type": "code",
   "execution_count": null,
   "metadata": {
    "pycharm": {
     "name": "#%%\n"
    }
   },
   "outputs": [],
   "source": [
    "!{train_command}"
   ]
  },
  {
   "cell_type": "markdown",
   "metadata": {
    "pycharm": {
     "name": "#%% md\n"
    }
   },
   "source": [
    "# 9. Export model"
   ]
  },
  {
   "cell_type": "code",
   "execution_count": null,
   "metadata": {
    "pycharm": {
     "name": "#%%\n"
    }
   },
   "outputs": [],
   "source": [
    "!tar -czf models.tar.gz {CUST_MODEL_PATH + '/' + CUST_MODEL_NAME}"
   ]
  },
  {
   "cell_type": "code",
   "execution_count": null,
   "metadata": {
    "pycharm": {
     "name": "#%%\n"
    }
   },
   "outputs": [],
   "source": [
    "# Open files folder in colab and transfer your model to drive/MyDrive if you want to save it\n",
    "from google.colab import drive\n",
    "drive.mount('/content/drive')"
   ]
  },
  {
   "cell_type": "markdown",
   "metadata": {
    "pycharm": {
     "name": "#%% md\n"
    }
   },
   "source": [
    "# 10. Import model"
   ]
  },
  {
   "cell_type": "code",
   "execution_count": null,
   "metadata": {
    "pycharm": {
     "name": "#%%\n"
    }
   },
   "outputs": [],
   "source": [
    "# Don't forget change CUST_MODEL_NAME to the model you importing (if you didn't)"
   ]
  },
  {
   "cell_type": "code",
   "execution_count": null,
   "metadata": {
    "pycharm": {
     "name": "#%%\n"
    }
   },
   "outputs": [],
   "source": [
    "!tar -zxvf {'models'+'.tar.gz'}"
   ]
  },
  {
   "cell_type": "markdown",
   "metadata": {},
   "source": [
    "# 11. Load Model"
   ]
  },
  {
   "cell_type": "code",
   "execution_count": null,
   "metadata": {
    "pycharm": {
     "name": "#%%\n"
    }
   },
   "outputs": [],
   "source": [
    "import os\n",
    "import tensorflow as tf\n",
    "from object_detection.utils import label_map_util\n",
    "from object_detection.utils import visualization_utils as viz_utils\n",
    "from object_detection.builders import model_builder\n",
    "from object_detection.utils import config_util"
   ]
  },
  {
   "cell_type": "code",
   "execution_count": null,
   "metadata": {
    "pycharm": {
     "name": "#%%\n"
    }
   },
   "outputs": [],
   "source": [
    "# Load pipeline config and build a detection model\n",
    "configs = config_util.get_configs_from_pipeline_file(CFG_PATH)\n",
    "detection_model = model_builder.build(model_config=configs['model'], is_training=False)\n",
    "\n",
    "# Restore checkpoint\n",
    "ckpt = tf.compat.v2.train.Checkpoint(model=detection_model)\n",
    "\n",
    "# Check how many checkpoints in your model it might be ckpt-2, ckpt-5 etc\n",
    "# TODO Select highest model checkpoint\n",
    "ckpt.restore(CUST_MODEL_PATH + '/' + CUST_MODEL_NAME + '/ckpt-3').expect_partial()\n",
    "\n",
    "@tf.function\n",
    "def detect_fn(image):\n",
    "    image, shapes = detection_model.preprocess(image)\n",
    "    prediction_dict = detection_model.predict(image, shapes)\n",
    "    detections = detection_model.postprocess(prediction_dict, shapes)\n",
    "    return detections"
   ]
  },
  {
   "cell_type": "markdown",
   "metadata": {
    "pycharm": {
     "name": "#%% md\n"
    }
   },
   "source": [
    "# 12. Detect from picture"
   ]
  },
  {
   "cell_type": "code",
   "execution_count": null,
   "metadata": {
    "pycharm": {
     "name": "#%%\n"
    }
   },
   "outputs": [],
   "source": [
    "import cv2\n",
    "import numpy as np\n",
    "from PIL import Image"
   ]
  },
  {
   "cell_type": "markdown",
   "source": [
    "## 12.1. Select picture"
   ],
   "metadata": {
    "collapsed": false
   }
  },
  {
   "cell_type": "code",
   "execution_count": null,
   "metadata": {
    "pycharm": {
     "name": "#%%\n"
    }
   },
   "outputs": [],
   "source": [
    "category_index = label_map_util.create_category_index_from_labelmap(DATASET_PATH + '/label_map.pbtxt')\n",
    "\n",
    "# TODO You can add your image if so you should change path to your image\n",
    "# IMAGE_PATH = DATASET_PATH + '/' + DATASET_NAME +'/1479498372942264998.jpg'\n",
    "# IMAGE_PATH = DATASET_PATH + '/people.jpeg'\n",
    "# IMAGE_PATH = DATASET_PATH + '/test2.jpg'\n",
    "IMAGE_PATH = DATASET_PATH + '/lorry.jpg'"
   ]
  },
  {
   "cell_type": "markdown",
   "source": [
    "## 12.2. Generate picture"
   ],
   "metadata": {
    "collapsed": false
   }
  },
  {
   "cell_type": "code",
   "execution_count": null,
   "metadata": {
    "pycharm": {
     "name": "#%%\n"
    }
   },
   "outputs": [],
   "source": [
    "img = cv2.imread(IMAGE_PATH)\n",
    "image_np = np.array(img)\n",
    "\n",
    "input_tensor = tf.convert_to_tensor(np.expand_dims(image_np, 0), dtype=tf.float32)\n",
    "detections = detect_fn(input_tensor)\n",
    "\n",
    "num_detections = int(detections.pop('num_detections'))\n",
    "detections = {key: value[0, :num_detections].numpy()\n",
    "              for key, value in detections.items()}\n",
    "detections['num_detections'] = num_detections\n",
    "\n",
    "# detection_classes should be ints.\n",
    "detections['detection_classes'] = detections['detection_classes'].astype(np.int64)\n",
    "\n",
    "label_id_offset = 1\n",
    "image_np_with_detections = image_np.copy()\n",
    "\n",
    "# TODO max_boxes_to_draw is the amount of things it can detect on picture\n",
    "# TODO min_score_thresh=0.7 (0-1) shows on the picture if recognised percent is 70%\n",
    "viz_utils.visualize_boxes_and_labels_on_image_array(\n",
    "            image_np_with_detections,\n",
    "            detections['detection_boxes'],\n",
    "            detections['detection_classes']+label_id_offset,\n",
    "            detections['detection_scores'],\n",
    "            category_index,\n",
    "            use_normalized_coordinates=True,\n",
    "            max_boxes_to_draw=5,\n",
    "            min_score_thresh=.5,\n",
    "            agnostic_mode=False)\n",
    "\n",
    "Image.fromarray(cv2.cvtColor(image_np_with_detections, cv2.COLOR_BGR2RGB))"
   ]
  },
  {
   "cell_type": "markdown",
   "source": [
    "# 13. Loading stats"
   ],
   "metadata": {
    "collapsed": false
   }
  },
  {
   "cell_type": "code",
   "execution_count": null,
   "outputs": [],
   "source": [
    "%load_ext tensorboard\n",
    "%tensorboard --logdir=car-detection/models/custom/custom_based_tpu8"
   ],
   "metadata": {
    "collapsed": false,
    "pycharm": {
     "name": "#%%\n"
    }
   }
  },
  {
   "cell_type": "code",
   "execution_count": null,
   "outputs": [],
   "source": [
    "!tensorboard dev upload \\\n",
    "  --logdir car-detection/models/custom/custom_based_tpu8 \\\n",
    "  --name \"(optional) My latest experiment\" \\\n",
    "  --description \"(optional) Simple comparison of several hyperparameters\" \\\n",
    "  --one_shot"
   ],
   "metadata": {
    "collapsed": false,
    "pycharm": {
     "name": "#%%\n"
    }
   }
  }
 ],
 "metadata": {
  "accelerator": "GPU",
  "colab": {
   "collapsed_sections": [],
   "name": "001084109_COMP1827_Coursework_2.ipynb",
   "provenance": []
  },
  "kernelspec": {
   "display_name": "Python 3",
   "language": "python",
   "name": "python3"
  },
  "language_info": {
   "codemirror_mode": {
    "name": "ipython",
    "version": 3
   },
   "file_extension": ".py",
   "mimetype": "text/x-python",
   "name": "python",
   "nbconvert_exporter": "python",
   "pygments_lexer": "ipython3",
   "version": "3.9.1"
  }
 },
 "nbformat": 4,
 "nbformat_minor": 1
}